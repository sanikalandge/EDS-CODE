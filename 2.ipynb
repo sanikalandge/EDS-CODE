{
  "nbformat": 4,
  "nbformat_minor": 0,
  "metadata": {
    "colab": {
      "provenance": []
    },
    "kernelspec": {
      "name": "python3",
      "display_name": "Python 3"
    },
    "language_info": {
      "name": "python"
    }
  },
  "cells": [
    {
      "cell_type": "code",
      "execution_count": null,
      "metadata": {
        "colab": {
          "base_uri": "https://localhost:8080/"
        },
        "id": "xLFeIDTSiwS9",
        "outputId": "16191ab4-8977-43fb-c07b-e7af4f3b74d0"
      },
      "outputs": [
        {
          "output_type": "stream",
          "name": "stdout",
          "text": [
            "enter the value of a=5\n",
            "enter the value of b=6\n",
            "a= 6\n",
            "b= 5\n"
          ]
        }
      ],
      "source": [
        "#swaping two numbers\n",
        "a=input(\"enter the value of a=\")\n",
        "b=input(\"enter the value of b=\")\n",
        "temp = a\n",
        "a=b\n",
        "b=temp\n",
        "print(\"a=\",a)\n",
        "print(\"b=\",b)"
      ]
    },
    {
      "cell_type": "markdown",
      "source": [],
      "metadata": {
        "id": "V-LhFMIi8q2O"
      }
    },
    {
      "cell_type": "code",
      "source": [],
      "metadata": {
        "id": "TeSOUoG88q_f"
      },
      "execution_count": null,
      "outputs": []
    }
  ]
}