{
  "nbformat": 4,
  "nbformat_minor": 0,
  "metadata": {
    "colab": {
      "provenance": []
    },
    "kernelspec": {
      "name": "python3",
      "display_name": "Python 3"
    },
    "language_info": {
      "name": "python"
    }
  },
  "cells": [
    {
      "cell_type": "code",
      "source": [
        "f1=open(\"emp.cvs\",\"r\")\n",
        "f2=open(\"sal.csv\",\"r\")\n",
        "f3=open(\"emp_sal.cvs\",\"w\")\n",
        "\n",
        "content1=f1.read()\n",
        "content2=f2.read()\n",
        "\n",
        "name=[]\n",
        "sal=[]\n",
        "\n",
        "lines1=content1.split(\"\\n\")\n",
        "lines2=content2.split(\"\\n\")\n",
        "\n",
        "for l1 in lines1 :\n",
        "  words1=l1.split(\",\")\n",
        "\n",
        "  for l2 in lines2 :\n",
        "    words2=l2.split(\",\")\n",
        "\n",
        "    if(words1[0]==words2[0]):\n",
        "      l1=l1 + \",\" + words2[1]+\",\" + words2[2] + \"\\n\"\n",
        "      f3.write(l1)\n",
        "      name.append(words1[1])\n",
        "      sal.append(int(words2[2]))\n",
        "      print(l1)\n",
        "\n",
        "      f1.close()\n",
        "      f2.close()\n",
        "      f3.close()\n",
        "\n",
        "      print(name)\n",
        "      print(sal)"
      ],
      "metadata": {
        "id": "fycdIMw5pToS"
      },
      "execution_count": null,
      "outputs": []
    },
    {
      "cell_type": "code",
      "source": [],
      "metadata": {
        "id": "20qzGrFYsBLJ"
      },
      "execution_count": null,
      "outputs": []
    }
  ]
}