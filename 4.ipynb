{
  "nbformat": 4,
  "nbformat_minor": 0,
  "metadata": {
    "colab": {
      "provenance": []
    },
    "kernelspec": {
      "name": "python3",
      "display_name": "Python 3"
    },
    "language_info": {
      "name": "python"
    }
  },
  "cells": [
    {
      "cell_type": "code",
      "execution_count": null,
      "metadata": {
        "id": "2T_meHp1f47M",
        "outputId": "f393ac36-87f2-4b34-8a99-93a8455c28c7",
        "colab": {
          "base_uri": "https://localhost:8080/",
          "height": 235
        }
      },
      "outputs": [
        {
          "output_type": "error",
          "ename": "FileNotFoundError",
          "evalue": "ignored",
          "traceback": [
            "\u001b[0;31m---------------------------------------------------------------------------\u001b[0m",
            "\u001b[0;31mFileNotFoundError\u001b[0m                         Traceback (most recent call last)",
            "\u001b[0;32m<ipython-input-1-717c3fd6ec86>\u001b[0m in \u001b[0;36m<cell line: 1>\u001b[0;34m()\u001b[0m\n\u001b[0;32m----> 1\u001b[0;31m \u001b[0mf1\u001b[0m\u001b[0;34m=\u001b[0m\u001b[0mopen\u001b[0m\u001b[0;34m(\u001b[0m\u001b[0;34m\"//content/sample_data/emp1..csv\"\u001b[0m\u001b[0;34m,\u001b[0m\u001b[0;34m\"r\"\u001b[0m\u001b[0;34m)\u001b[0m\u001b[0;34m\u001b[0m\u001b[0;34m\u001b[0m\u001b[0m\n\u001b[0m\u001b[1;32m      2\u001b[0m \u001b[0mf2\u001b[0m\u001b[0;34m=\u001b[0m\u001b[0mopen\u001b[0m\u001b[0;34m(\u001b[0m\u001b[0;34m\"//content/sample_data/emp_sal.csv\"\u001b[0m\u001b[0;34m,\u001b[0m\u001b[0;34m\"r\"\u001b[0m\u001b[0;34m)\u001b[0m\u001b[0;34m\u001b[0m\u001b[0;34m\u001b[0m\u001b[0m\n\u001b[1;32m      3\u001b[0m \u001b[0mf3\u001b[0m\u001b[0;34m=\u001b[0m\u001b[0mopen\u001b[0m\u001b[0;34m(\u001b[0m\u001b[0;34m\"//content/sample_data/emp_sal_empty.csv\"\u001b[0m\u001b[0;34m,\u001b[0m\u001b[0;34m\"r\"\u001b[0m\u001b[0;34m)\u001b[0m\u001b[0;34m\u001b[0m\u001b[0;34m\u001b[0m\u001b[0m\n\u001b[1;32m      4\u001b[0m \u001b[0mcontents1\u001b[0m\u001b[0;34m=\u001b[0m\u001b[0mf1\u001b[0m\u001b[0;34m.\u001b[0m\u001b[0mread\u001b[0m\u001b[0;34m(\u001b[0m\u001b[0;34m)\u001b[0m\u001b[0;34m\u001b[0m\u001b[0;34m\u001b[0m\u001b[0m\n\u001b[1;32m      5\u001b[0m \u001b[0mcontents2\u001b[0m\u001b[0;34m=\u001b[0m\u001b[0mf2\u001b[0m\u001b[0;34m.\u001b[0m\u001b[0mread\u001b[0m\u001b[0;34m(\u001b[0m\u001b[0;34m)\u001b[0m\u001b[0;34m\u001b[0m\u001b[0;34m\u001b[0m\u001b[0m\n",
            "\u001b[0;31mFileNotFoundError\u001b[0m: [Errno 2] No such file or directory: '//content/sample_data/emp1..csv'"
          ]
        }
      ],
      "source": [
        "f1=open(\"//content/sample_data/emp1..csv\",\"r\")\n",
        "f2=open(\"//content/sample_data/emp_sal.csv\",\"r\")\n",
        "f3=open(\"//content/sample_data/emp_sal_empty.csv\",\"r\")\n",
        "contents1=f1.read()\n",
        "contents2=f2.read()\n",
        "print(contents1)\n",
        "print(contents2)\n",
        "nm=[]\n",
        "sal=[]\n",
        "lines1=contents1.split(\"\\n\")\n",
        "lines2=contents2.split(\"\\n\")\n",
        "for l1 in lines1:\n",
        "    words1=l1.split(\",\")\n",
        "    for l2 in lines2:\n",
        "      words2=l2.split(\",\")\n",
        "      if(words1[0]==words2[0]):\n",
        "        l1=l1+\",\"+words2[1]+\",\"+words2[2]+\"\\n\"\n",
        "        f3.write(l1)\n",
        "\n",
        "      nm.append(words1[1])\n",
        "      sal.append(int(words2[2]))\n",
        "      print(l1)\n",
        "\n",
        ",f1.close()\n",
        "f2.close()"
      ]
    }
  ]
}