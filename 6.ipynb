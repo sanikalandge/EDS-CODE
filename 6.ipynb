{
  "nbformat": 4,
  "nbformat_minor": 0,
  "metadata": {
    "colab": {
      "provenance": []
    },
    "kernelspec": {
      "name": "python3",
      "display_name": "Python 3"
    },
    "language_info": {
      "name": "python"
    }
  },
  "cells": [
    {
      "cell_type": "code",
      "execution_count": null,
      "metadata": {
        "colab": {
          "base_uri": "https://localhost:8080/",
          "height": 235
        },
        "id": "xJlgtzQsgNqV",
        "outputId": "6b4e82d7-f255-4a8a-9841-836b8c5a7502"
      },
      "outputs": [
        {
          "output_type": "error",
          "ename": "IsADirectoryError",
          "evalue": "ignored",
          "traceback": [
            "\u001b[0;31m---------------------------------------------------------------------------\u001b[0m",
            "\u001b[0;31mIsADirectoryError\u001b[0m                         Traceback (most recent call last)",
            "\u001b[0;32m<ipython-input-5-9869ba9a91a7>\u001b[0m in \u001b[0;36m<cell line: 3>\u001b[0;34m()\u001b[0m\n\u001b[1;32m      1\u001b[0m \u001b[0;32mimport\u001b[0m \u001b[0mcsv\u001b[0m\u001b[0;34m\u001b[0m\u001b[0;34m\u001b[0m\u001b[0m\n\u001b[1;32m      2\u001b[0m \u001b[0;34m\u001b[0m\u001b[0m\n\u001b[0;32m----> 3\u001b[0;31m \u001b[0mf1\u001b[0m\u001b[0;34m=\u001b[0m\u001b[0mopen\u001b[0m\u001b[0;34m(\u001b[0m\u001b[0;34m\"/content/sample_data\"\u001b[0m\u001b[0;34m,\u001b[0m\u001b[0;34m\"r\"\u001b[0m\u001b[0;34m)\u001b[0m\u001b[0;34m\u001b[0m\u001b[0;34m\u001b[0m\u001b[0m\n\u001b[0m\u001b[1;32m      4\u001b[0m \u001b[0mf2\u001b[0m\u001b[0;34m=\u001b[0m\u001b[0mopen\u001b[0m\u001b[0;34m(\u001b[0m\u001b[0;34m\"/content/CGPA.csv\"\u001b[0m\u001b[0;34m,\u001b[0m\u001b[0;34m\"r\"\u001b[0m\u001b[0;34m)\u001b[0m\u001b[0;34m\u001b[0m\u001b[0;34m\u001b[0m\u001b[0m\n\u001b[1;32m      5\u001b[0m \u001b[0mf3\u001b[0m\u001b[0;34m=\u001b[0m\u001b[0mopen\u001b[0m\u001b[0;34m(\u001b[0m\u001b[0;34m\"/content/CGPA.csv\"\u001b[0m\u001b[0;34m,\u001b[0m\u001b[0;34m\"w\"\u001b[0m\u001b[0;34m)\u001b[0m\u001b[0;34m\u001b[0m\u001b[0;34m\u001b[0m\u001b[0m\n",
            "\u001b[0;31mIsADirectoryError\u001b[0m: [Errno 21] Is a directory: '/content/sample_data'"
          ]
        }
      ],
      "source": [
        "import csv\n",
        "\n",
        "f1=open(\"/content/sample_data\",\"r\")\n",
        "f2=open(\"/content/CGPA.csv\",\"r\")\n",
        "f3=open(\"/content/CGPA.csv\",\"w\")\n",
        "\n",
        "d1=list(csv.reader(f1,delimiter=\",\"))\n",
        "d2=list(csv.reader(f2,delimiter=\",\"))\n",
        "\n",
        "print(\"\\nFile 1 contents: \",d1)\n",
        "print(\"\\nFile 2 contents: \",d2)\n",
        "d3=[]\n",
        "for i in range (len(d1)):\n",
        "  d3.append(d1[i]+d2[i])\n",
        "\n",
        "print(d3)\n",
        "cw=csv.writer(f3)\n",
        "cw.writerows(d3)\n",
        "\n",
        "print(max(d3))\n",
        "\n",
        "f1.close()\n",
        "f2.close()\n",
        "f3.close()\n",
        "cgpa=[]\n",
        "with open('/content/stud_info', mode ='r')as file:\n",
        "\n",
        "  csvFile = csv.reader(file)\n",
        "\n",
        "  for lines in csvFile:\n",
        "    cgpa.append(float(lines[4]))\n",
        "\n",
        "\n",
        "print(\"\\nMaximum cgpa:\", max(cgpa))\n",
        "print(\"Minimum cgpa:\", min(cgpa))\n",
        "print(\"Sum of cgpa:\",sum(cgpa))\n",
        "print(\"Average cgpa:\",sum(cgpa)/len(cgpa))"
      ]
    }
  ]
}