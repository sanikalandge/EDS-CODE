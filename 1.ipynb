{
  "nbformat": 4,
  "nbformat_minor": 0,
  "metadata": {
    "colab": {
      "provenance": []
    },
    "kernelspec": {
      "name": "python3",
      "display_name": "Python 3"
    },
    "language_info": {
      "name": "python"
    }
  },
  "cells": [
    {
      "cell_type": "code",
      "execution_count": null,
      "metadata": {
        "colab": {
          "base_uri": "https://localhost:8080/"
        },
        "id": "Yrx0oQ5iS3gD",
        "outputId": "d771c33c-b154-4b39-9342-069cce91ae99"
      },
      "outputs": [
        {
          "output_type": "stream",
          "name": "stdout",
          "text": [
            "yes\n"
          ]
        }
      ],
      "source": [
        "list = [10, 20, 30,40]\n",
        "x = 30\n",
        "if x in list :\n",
        "  print (\"yes\")\n",
        "else :\n",
        "  print(\"no\")"
      ]
    },
    {
      "cell_type": "code",
      "source": [
        "\n",
        "even  = []\n",
        "odd = []\n",
        "n=int(input(\"how many numbers:\"))\n",
        "\n",
        "for i in range (n) :\n",
        "  x = int(input())\n",
        "if(x % 2 == 0):\n",
        "  even.append(x)\n",
        "else :\n",
        "  odd.append(x)\n",
        "  print(\"even list\",even)\n",
        "  print(\"odd list\",odd)"
      ],
      "metadata": {
        "colab": {
          "base_uri": "https://localhost:8080/"
        },
        "id": "HyiQTNRDWkrA",
        "outputId": "5210885c-8f85-4384-bacd-ce9af6445d57"
      },
      "execution_count": null,
      "outputs": [
        {
          "output_type": "stream",
          "name": "stdout",
          "text": [
            "how many numbers:4\n",
            "4\n",
            "1\n",
            "2\n",
            "3\n",
            "even list []\n",
            "odd list [3]\n"
          ]
        }
      ]
    },
    {
      "cell_type": "code",
      "source": [
        "def factorial (n):\n",
        "if n==0:\n",
        "    return 1\n",
        "else :\n",
        "     return factorial (n-1):\n",
        "     print n*factorial (n-1)"
      ],
      "metadata": {
        "colab": {
          "base_uri": "https://localhost:8080/",
          "height": 130
        },
        "id": "QiOTC89Jiqbk",
        "outputId": "ebf64fa7-cf6e-4a62-aa38-f89f3a079c4c"
      },
      "execution_count": null,
      "outputs": [
        {
          "output_type": "error",
          "ename": "IndentationError",
          "evalue": "ignored",
          "traceback": [
            "\u001b[0;36m  File \u001b[0;32m\"<ipython-input-22-175768c6ed6d>\"\u001b[0;36m, line \u001b[0;32m2\u001b[0m\n\u001b[0;31m    if n==0:\u001b[0m\n\u001b[0m    ^\u001b[0m\n\u001b[0;31mIndentationError\u001b[0m\u001b[0;31m:\u001b[0m expected an indented block\n"
          ]
        }
      ]
    },
    {
      "cell_type": "code",
      "source": [
        "a=input(\"enter the value of a=\")\n",
        "b=input(\"enter the value of b=\")\n",
        "a=a1\n",
        "b=b1\n",
        "print(\"a=\",a1)\n",
        "print(\"b=\",)"
      ],
      "metadata": {
        "id": "Pjf38d6Vn9Nk"
      },
      "execution_count": null,
      "outputs": []
    }
  ]
}